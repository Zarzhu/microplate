{
 "cells": [
  {
   "cell_type": "code",
   "execution_count": 4,
   "metadata": {},
   "outputs": [
    {
     "name": "stdout",
     "output_type": "stream",
     "text": [
      "Plate Name: test_plate\n",
      "Plate ID: None\n",
      "       1          2          3          4          5          6          7          8          9          10         11         12    \n",
      "A     1234       test       nan        nan        nan         -          -          -          -          -          -          -     \n",
      "B      -          -          -          -          -          -          -          -          -          -          -          -     \n",
      "C      -          -          -          -          -          -          -          -          -          -          -          -     \n",
      "D      -          -          -          -          -          -          -          -          -          -          -          -     \n",
      "E      -          -          -          -          -          -          -          -          -          -          -          -     \n",
      "F      -          -          -          -          -          -          -          -          -          -          -          -     \n",
      "G      -          -          -          -          -          -          -          -          -          -          -          -     \n",
      "H      -          -          -          -          -          -          -          -          -          -          -          -     \n",
      "    plate_name plate_id well_index row  column sample_id\n",
      "0   test_plate     None         A1   A       1      1234\n",
      "1   test_plate     None         B1   B       1      test\n",
      "2   test_plate     None         C1   C       1       NaN\n",
      "3   test_plate     None         D1   D       1       NaN\n",
      "4   test_plate     None         E1   E       1       NaN\n",
      "..         ...      ...        ...  ..     ...       ...\n",
      "91  test_plate     None        D12   D      12      None\n",
      "92  test_plate     None        E12   E      12      None\n",
      "93  test_plate     None        F12   F      12      None\n",
      "94  test_plate     None        G12   G      12      None\n",
      "95  test_plate     None        H12   H      12      None\n",
      "\n",
      "[96 rows x 6 columns]\n"
     ]
    }
   ],
   "source": [
    "from microplate.microplate import Microplate\n",
    "import pandas as pd\n",
    "\n",
    "sample = {'A1': 1234}  # Changed from {'well_index': 'A1', 'sample_id': 1234}\n",
    "sample2 = {'B1': 'test'}\n",
    "sample_df = pd.DataFrame({'well_index': ['C1', 'D1', 'E1'], 'sample_id': [5678, 'test2', 'test3']})\n",
    "\n",
    "plate = Microplate(rows=8, cols=12, plate_name='test_plate', sample_ids=sample)\n",
    "plate.add_samples(sample2)\n",
    "plate.add_samples(sample_df)\n",
    "\n",
    "plate.print_matrix()\n",
    "print(plate.df)"
   ]
  }
 ],
 "metadata": {
  "kernelspec": {
   "display_name": "Python 3",
   "language": "python",
   "name": "python3"
  },
  "language_info": {
   "codemirror_mode": {
    "name": "ipython",
    "version": 3
   },
   "file_extension": ".py",
   "mimetype": "text/x-python",
   "name": "python",
   "nbconvert_exporter": "python",
   "pygments_lexer": "ipython3",
   "version": "3.13.1"
  }
 },
 "nbformat": 4,
 "nbformat_minor": 2
}
